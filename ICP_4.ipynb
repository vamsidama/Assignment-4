{
  "nbformat": 4,
  "nbformat_minor": 0,
  "metadata": {
    "colab": {
      "provenance": []
    },
    "kernelspec": {
      "name": "python3",
      "display_name": "Python 3"
    },
    "language_info": {
      "name": "python"
    }
  },
  "cells": [
    {
      "cell_type": "code",
      "execution_count": 2,
      "metadata": {
        "colab": {
          "base_uri": "https://localhost:8080/"
        },
        "id": "9roU6d8hxHm8",
        "outputId": "0235bf6c-3d4c-4d6e-f2a7-f0c2e4b34cfc"
      },
      "outputs": [
        {
          "output_type": "stream",
          "name": "stdout",
          "text": [
            "   ID  Value Choice\n",
            "0   1    100      A\n",
            "1   2    200      B\n",
            "2   3    300      A\n",
            "3   4    400      B\n",
            "4   5    500      A\n"
          ]
        }
      ],
      "source": [
        "# Creating a DataFrame from a given dictionary\n",
        "\n",
        "import pandas as pd\n",
        "\n",
        "data = {\n",
        "    'ID': [1, 2, 3, 4, 5],\n",
        "    'Value': [100, 200, 300, 400, 500],\n",
        "    'Choice': ['A', 'B', 'A', 'B', 'A']\n",
        "}\n",
        "\n",
        "df = pd.DataFrame(data)\n",
        "print(df)\n"
      ]
    },
    {
      "cell_type": "code",
      "source": [
        "# Output first 10 rows.\n",
        "\n",
        "print(df.head(10))\n"
      ],
      "metadata": {
        "colab": {
          "base_uri": "https://localhost:8080/"
        },
        "id": "iyFF8ps0xbIB",
        "outputId": "7550b98b-56f1-435a-ae79-57b60a8cad03"
      },
      "execution_count": 3,
      "outputs": [
        {
          "output_type": "stream",
          "name": "stdout",
          "text": [
            "   ID  Value Choice\n",
            "0   1    100      A\n",
            "1   2    200      B\n",
            "2   3    300      A\n",
            "3   4    400      B\n",
            "4   5    500      A\n"
          ]
        }
      ]
    },
    {
      "cell_type": "code",
      "source": [
        "# Access a column “Value”\n",
        "\n",
        "print(df['Value'])\n"
      ],
      "metadata": {
        "colab": {
          "base_uri": "https://localhost:8080/"
        },
        "id": "RVLlV-zbxhzc",
        "outputId": "0e840ef4-d917-44ef-bbaa-b6dda3178e71"
      },
      "execution_count": 4,
      "outputs": [
        {
          "output_type": "stream",
          "name": "stdout",
          "text": [
            "0    100\n",
            "1    200\n",
            "2    300\n",
            "3    400\n",
            "4    500\n",
            "Name: Value, dtype: int64\n"
          ]
        }
      ]
    },
    {
      "cell_type": "code",
      "source": [
        "# Modify columns in the DataFrame with names\n",
        "# (ID number, Random value, Choice) and show outputfor first five rows.\n",
        "\n",
        "df.columns = ['ID number', 'Random value', 'Choice']\n",
        "print(df.head())\n"
      ],
      "metadata": {
        "colab": {
          "base_uri": "https://localhost:8080/"
        },
        "id": "lqnihKtVxpxD",
        "outputId": "740c20fe-b75b-4203-b0b0-bb47613c563c"
      },
      "execution_count": 5,
      "outputs": [
        {
          "output_type": "stream",
          "name": "stdout",
          "text": [
            "   ID number  Random value Choice\n",
            "0          1           100      A\n",
            "1          2           200      B\n",
            "2          3           300      A\n",
            "3          4           400      B\n",
            "4          5           500      A\n"
          ]
        }
      ]
    },
    {
      "cell_type": "code",
      "source": [
        "# Fix and run the buggy code\n",
        "# # Incorrect\n",
        "# data = {'a':[1, 2, 3], 'b':[4, 5, 6]}\n",
        "# df = pd.Dataframe(data)\n",
        "# print(df.head)\n",
        "\n",
        "# corrected\n",
        "data = {'a':[1, 2, 3], 'b':[4, 5, 6]}\n",
        "df = pd.DataFrame(data)\n",
        "print(df.head())\n"
      ],
      "metadata": {
        "colab": {
          "base_uri": "https://localhost:8080/"
        },
        "id": "FOectXO7y4gD",
        "outputId": "b8e6c467-bd2b-4645-b736-baf659ed4f6e"
      },
      "execution_count": 6,
      "outputs": [
        {
          "output_type": "stream",
          "name": "stdout",
          "text": [
            "   a  b\n",
            "0  1  4\n",
            "1  2  5\n",
            "2  3  6\n"
          ]
        }
      ]
    },
    {
      "cell_type": "code",
      "source": [
        "# Read the data.csv file\n",
        "\n",
        "df = pd.read_csv(\"data.csv\")\n",
        "print(df.head())\n"
      ],
      "metadata": {
        "colab": {
          "base_uri": "https://localhost:8080/"
        },
        "id": "TODDMv69ziec",
        "outputId": "8eb7bdc6-42dc-4df8-9679-67caada70665"
      },
      "execution_count": 7,
      "outputs": [
        {
          "output_type": "stream",
          "name": "stdout",
          "text": [
            "   Duration  Pulse  Maxpulse  Calories\n",
            "0        60    110       130     409.1\n",
            "1        60    117       145     479.0\n",
            "2        60    103       135     340.0\n",
            "3        45    109       175     282.4\n",
            "4        45    117       148     406.0\n"
          ]
        }
      ]
    },
    {
      "cell_type": "code",
      "source": [
        "# Show basic statistical description\n",
        "\n",
        "print(df.describe())\n"
      ],
      "metadata": {
        "colab": {
          "base_uri": "https://localhost:8080/"
        },
        "id": "s15X3XOvzmtQ",
        "outputId": "0bc2ca3b-1c7d-456d-e8aa-7b34931ebd19"
      },
      "execution_count": 8,
      "outputs": [
        {
          "output_type": "stream",
          "name": "stdout",
          "text": [
            "         Duration       Pulse    Maxpulse     Calories\n",
            "count  169.000000  169.000000  169.000000   164.000000\n",
            "mean    63.846154  107.461538  134.047337   375.790244\n",
            "std     42.299949   14.510259   16.450434   266.379919\n",
            "min     15.000000   80.000000  100.000000    50.300000\n",
            "25%     45.000000  100.000000  124.000000   250.925000\n",
            "50%     60.000000  105.000000  131.000000   318.600000\n",
            "75%     60.000000  111.000000  141.000000   387.600000\n",
            "max    300.000000  159.000000  184.000000  1860.400000\n"
          ]
        }
      ]
    },
    {
      "cell_type": "code",
      "source": [
        "# Check for null values and replace with mean\n",
        "\n",
        "print(df.isnull().sum())\n",
        "df.fillna(df.mean(numeric_only=True), inplace=True)\n"
      ],
      "metadata": {
        "colab": {
          "base_uri": "https://localhost:8080/"
        },
        "id": "m-mFMQbmzrIE",
        "outputId": "2ac45386-92e3-4923-982c-18d8ad93c49b"
      },
      "execution_count": 9,
      "outputs": [
        {
          "output_type": "stream",
          "name": "stdout",
          "text": [
            "Duration    0\n",
            "Pulse       0\n",
            "Maxpulse    0\n",
            "Calories    5\n",
            "dtype: int64\n"
          ]
        }
      ]
    },
    {
      "cell_type": "code",
      "source": [
        "# Select two columns and aggregate using min, max, count, mean\n",
        "\n",
        "print(df[['Duration', 'Calories']].agg(['min', 'max', 'count', 'mean']))\n"
      ],
      "metadata": {
        "colab": {
          "base_uri": "https://localhost:8080/"
        },
        "id": "XhpkHO8Zzyvm",
        "outputId": "9a67aaa3-f312-45e3-f58d-28dde1d71060"
      },
      "execution_count": 10,
      "outputs": [
        {
          "output_type": "stream",
          "name": "stdout",
          "text": [
            "         Duration     Calories\n",
            "min     15.000000    50.300000\n",
            "max    300.000000  1860.400000\n",
            "count  169.000000   169.000000\n",
            "mean    63.846154   375.790244\n"
          ]
        }
      ]
    },
    {
      "cell_type": "code",
      "source": [
        "# Filter rows with calories between 500 and 1000\n",
        "\n",
        "filtered_df = df[(df['Calories'] >= 500) & (df['Calories'] <= 1000)]\n",
        "print(filtered_df)\n"
      ],
      "metadata": {
        "colab": {
          "base_uri": "https://localhost:8080/"
        },
        "id": "4gXFcJZVzyo4",
        "outputId": "6a6ee04b-3e29-49f2-d60e-e1ae45a2dee7"
      },
      "execution_count": 11,
      "outputs": [
        {
          "output_type": "stream",
          "name": "stdout",
          "text": [
            "     Duration  Pulse  Maxpulse  Calories\n",
            "51         80    123       146     643.1\n",
            "62        160    109       135     853.0\n",
            "65        180     90       130     800.4\n",
            "66        150    105       135     873.4\n",
            "67        150    107       130     816.0\n",
            "72         90    100       127     700.0\n",
            "73        150     97       127     953.2\n",
            "75         90     98       125     563.2\n",
            "78        120    100       130     500.4\n",
            "83        120    100       130     500.0\n",
            "90        180    101       127     600.1\n",
            "99         90     93       124     604.1\n",
            "101        90     90       110     500.0\n",
            "102        90     90       100     500.0\n",
            "103        90     90       100     500.4\n",
            "106       180     90       120     800.3\n",
            "108        90     90       120     500.3\n"
          ]
        }
      ]
    },
    {
      "cell_type": "code",
      "source": [
        "# Filter rows with calories > 500 and pulse < 100\n",
        "\n",
        "print(df[(df['Calories'] > 500) & (df['Pulse'] < 100)])\n"
      ],
      "metadata": {
        "colab": {
          "base_uri": "https://localhost:8080/"
        },
        "id": "Xd9bvayYzyf9",
        "outputId": "d51d1de1-3c78-4165-d772-7d83cf7165db"
      },
      "execution_count": 12,
      "outputs": [
        {
          "output_type": "stream",
          "name": "stdout",
          "text": [
            "     Duration  Pulse  Maxpulse  Calories\n",
            "65        180     90       130     800.4\n",
            "70        150     97       129    1115.0\n",
            "73        150     97       127     953.2\n",
            "75         90     98       125     563.2\n",
            "99         90     93       124     604.1\n",
            "103        90     90       100     500.4\n",
            "106       180     90       120     800.3\n",
            "108        90     90       120     500.3\n"
          ]
        }
      ]
    },
    {
      "cell_type": "code",
      "source": [
        "# Create new df_modified excluding Maxpulse\n",
        "\n",
        "df_modified = df.drop(columns=['Maxpulse'])\n",
        "print(df_modified.head())\n"
      ],
      "metadata": {
        "colab": {
          "base_uri": "https://localhost:8080/"
        },
        "id": "y1b-y3zUz8Up",
        "outputId": "436fc425-d130-4094-e609-85aea9afe15e"
      },
      "execution_count": 13,
      "outputs": [
        {
          "output_type": "stream",
          "name": "stdout",
          "text": [
            "   Duration  Pulse  Calories\n",
            "0        60    110     409.1\n",
            "1        60    117     479.0\n",
            "2        60    103     340.0\n",
            "3        45    109     282.4\n",
            "4        45    117     406.0\n"
          ]
        }
      ]
    },
    {
      "cell_type": "code",
      "source": [
        "# Delete Maxpulse from main DataFrame\n",
        "\n",
        "df.drop(columns=['Maxpulse'], inplace=True)\n"
      ],
      "metadata": {
        "id": "CEpAtfwc0AsS"
      },
      "execution_count": 14,
      "outputs": []
    },
    {
      "cell_type": "code",
      "source": [
        "# Convert Calories to int datatype\n",
        "\n",
        "df['Calories'] = df['Calories'].astype(int)\n"
      ],
      "metadata": {
        "id": "JHlhpZle0AnY"
      },
      "execution_count": 15,
      "outputs": []
    },
    {
      "cell_type": "code",
      "source": [
        "#Scatter plot (Duration vs Calories)\n",
        "\n",
        "import matplotlib.pyplot as plt\n",
        "\n",
        "plt.scatter(df['Duration'], df['Calories'])\n",
        "plt.title(\"Duration vs Calories\")\n",
        "plt.xlabel(\"Duration\")\n",
        "plt.ylabel(\"Calories\")\n",
        "plt.grid(True)\n",
        "plt.show()\n"
      ],
      "metadata": {
        "colab": {
          "base_uri": "https://localhost:8080/",
          "height": 472
        },
        "id": "uM6li_oo01DK",
        "outputId": "8c9c3955-4df8-4478-8bfc-ade95eb564e4"
      },
      "execution_count": 17,
      "outputs": [
        {
          "output_type": "display_data",
          "data": {
            "text/plain": [
              "<Figure size 640x480 with 1 Axes>"
            ],
            "image/png": "[encoded data removed]"
          },
          "metadata": {}
        }
      ]
    }
  ]
}